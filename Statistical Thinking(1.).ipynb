{
 "cells": [
  {
   "cell_type": "markdown",
   "metadata": {},
   "source": [
    "### Importing all the necesarry libraries"
   ]
  },
  {
   "cell_type": "code",
   "execution_count": 1,
   "metadata": {},
   "outputs": [],
   "source": [
    "import pandas as pd\n",
    "import numpy as np\n",
    "import matplotlib.pyplot as plt\n",
    "import seaborn as sns\n",
    "import scipy\n",
    "from scipy import stats\n"
   ]
  },
  {
   "cell_type": "markdown",
   "metadata": {},
   "source": [
    "#### Reading CSV files"
   ]
  },
  {
   "cell_type": "code",
   "execution_count": 2,
   "metadata": {},
   "outputs": [],
   "source": [
    "Salary = pd.read_csv('salary.csv')\n",
    "Salary_metadata=pd.read_csv('Salary metadata.csv',sep='\\t')"
   ]
  },
  {
   "cell_type": "code",
   "execution_count": 3,
   "metadata": {},
   "outputs": [
    {
     "data": {
      "text/html": [
       "<div>\n",
       "<style scoped>\n",
       "    .dataframe tbody tr th:only-of-type {\n",
       "        vertical-align: middle;\n",
       "    }\n",
       "\n",
       "    .dataframe tbody tr th {\n",
       "        vertical-align: top;\n",
       "    }\n",
       "\n",
       "    .dataframe thead th {\n",
       "        text-align: right;\n",
       "    }\n",
       "</style>\n",
       "<table border=\"1\" class=\"dataframe\">\n",
       "  <thead>\n",
       "    <tr style=\"text-align: right;\">\n",
       "      <th></th>\n",
       "      <th>Variable;Type;Explanation</th>\n",
       "    </tr>\n",
       "  </thead>\n",
       "  <tbody>\n",
       "    <tr>\n",
       "      <th>0</th>\n",
       "      <td>salary;Continuous;Annual salary in dollars</td>\n",
       "    </tr>\n",
       "    <tr>\n",
       "      <th>1</th>\n",
       "      <td>exprior;Continuous;Years of experience prior t...</td>\n",
       "    </tr>\n",
       "    <tr>\n",
       "      <th>2</th>\n",
       "      <td>yearsworked;Continuous;Years worked in this field</td>\n",
       "    </tr>\n",
       "    <tr>\n",
       "      <th>3</th>\n",
       "      <td>yearsrank;Continuous;Years worked at current r...</td>\n",
       "    </tr>\n",
       "    <tr>\n",
       "      <th>4</th>\n",
       "      <td>market;Continuous;Market value (1 = salary at ...</td>\n",
       "    </tr>\n",
       "    <tr>\n",
       "      <th>5</th>\n",
       "      <td>degree;Binary;Has degree (0 = no, 1 = yes)</td>\n",
       "    </tr>\n",
       "    <tr>\n",
       "      <th>6</th>\n",
       "      <td>otherqual;Binary;Has other post-secondary qual...</td>\n",
       "    </tr>\n",
       "    <tr>\n",
       "      <th>7</th>\n",
       "      <td>position;Categorical;Position (1 = Junior Empl...</td>\n",
       "    </tr>\n",
       "    <tr>\n",
       "      <th>8</th>\n",
       "      <td>male;Binary;0 = no, 1 = yes</td>\n",
       "    </tr>\n",
       "    <tr>\n",
       "      <th>9</th>\n",
       "      <td>Field;Categorical;Field of work (1 = Engineeri...</td>\n",
       "    </tr>\n",
       "    <tr>\n",
       "      <th>10</th>\n",
       "      <td>yearsabs;Continuous;Years absent from work (e....</td>\n",
       "    </tr>\n",
       "  </tbody>\n",
       "</table>\n",
       "</div>"
      ],
      "text/plain": [
       "                            Variable;Type;Explanation\n",
       "0          salary;Continuous;Annual salary in dollars\n",
       "1   exprior;Continuous;Years of experience prior t...\n",
       "2   yearsworked;Continuous;Years worked in this field\n",
       "3   yearsrank;Continuous;Years worked at current r...\n",
       "4   market;Continuous;Market value (1 = salary at ...\n",
       "5          degree;Binary;Has degree (0 = no, 1 = yes)\n",
       "6   otherqual;Binary;Has other post-secondary qual...\n",
       "7   position;Categorical;Position (1 = Junior Empl...\n",
       "8                         male;Binary;0 = no, 1 = yes\n",
       "9   Field;Categorical;Field of work (1 = Engineeri...\n",
       "10  yearsabs;Continuous;Years absent from work (e...."
      ]
     },
     "execution_count": 3,
     "metadata": {},
     "output_type": "execute_result"
    }
   ],
   "source": [
    "Salary_metadata.head(30)"
   ]
  },
  {
   "cell_type": "code",
   "execution_count": 4,
   "metadata": {},
   "outputs": [],
   "source": [
    "def printDataFrame(Salary_metadata):\n",
    "    for i in range(len(Salary_metadata.index)):\n",
    "        row = list(Salary_metadata.iloc[i])\n",
    "        print(\"\\t\".join(map(str, row)))\n"
   ]
  },
  {
   "cell_type": "code",
   "execution_count": 5,
   "metadata": {},
   "outputs": [
    {
     "name": "stdout",
     "output_type": "stream",
     "text": [
      "salary;Continuous;Annual salary in dollars\n",
      "exprior;Continuous;Years of experience prior to working in this field\n",
      "yearsworked;Continuous;Years worked in this field\n",
      "yearsrank;Continuous;Years worked at current rank \n",
      "market;Continuous;Market value (1 = salary at market value for position, <1 salary lower than market value for position, >1 salary higher than market value for position)\n",
      "degree;Binary;Has degree (0 = no, 1 = yes)\n",
      "otherqual;Binary;Has other post-secondary qualification (0 = no, 1 = yes)\n",
      "position;Categorical;Position (1 = Junior Employee, 2 = Manager, 3 = Executive)\n",
      "male;Binary;0 = no, 1 = yes\n",
      "Field;Categorical;Field of work (1 = Engineering, 2 = Finance, 3 = Human Resources, 4 = Marketing)\n",
      "yearsabs;Continuous;Years absent from work (e.g. due to illness / child rearing / personal reasons)\n"
     ]
    }
   ],
   "source": [
    "printDataFrame(Salary_metadata)"
   ]
  },
  {
   "cell_type": "markdown",
   "metadata": {},
   "source": [
    "### Checking for missing values"
   ]
  },
  {
   "cell_type": "markdown",
   "metadata": {},
   "source": [
    "#### 1. How many responders are there? Are there any missing values in any of the variables?"
   ]
  },
  {
   "cell_type": "code",
   "execution_count": 6,
   "metadata": {},
   "outputs": [
    {
     "data": {
      "text/plain": [
       "514"
      ]
     },
     "execution_count": 6,
     "metadata": {},
     "output_type": "execute_result"
    }
   ],
   "source": [
    "count = len(Salary['salary'])\n",
    "count"
   ]
  },
  {
   "cell_type": "code",
   "execution_count": 7,
   "metadata": {},
   "outputs": [
    {
     "name": "stdout",
     "output_type": "stream",
     "text": [
      "Number of columns with missing values: 1\n"
     ]
    }
   ],
   "source": [
    "print(\"Number of columns with missing values: {}\".format(len(Salary.columns[Salary.isnull().any()])))"
   ]
  },
  {
   "cell_type": "code",
   "execution_count": 8,
   "metadata": {},
   "outputs": [
    {
     "data": {
      "text/plain": [
       "['salary']"
      ]
     },
     "execution_count": 8,
     "metadata": {},
     "output_type": "execute_result"
    }
   ],
   "source": [
    "[col for col in Salary.columns if Salary[col].isnull().any()]\n"
   ]
  },
  {
   "cell_type": "code",
   "execution_count": 9,
   "metadata": {},
   "outputs": [
    {
     "data": {
      "text/html": [
       "<div>\n",
       "<style scoped>\n",
       "    .dataframe tbody tr th:only-of-type {\n",
       "        vertical-align: middle;\n",
       "    }\n",
       "\n",
       "    .dataframe tbody tr th {\n",
       "        vertical-align: top;\n",
       "    }\n",
       "\n",
       "    .dataframe thead th {\n",
       "        text-align: right;\n",
       "    }\n",
       "</style>\n",
       "<table border=\"1\" class=\"dataframe\">\n",
       "  <thead>\n",
       "    <tr style=\"text-align: right;\">\n",
       "      <th></th>\n",
       "      <th>salary</th>\n",
       "      <th>exprior</th>\n",
       "      <th>yearsworked</th>\n",
       "      <th>yearsrank</th>\n",
       "      <th>market</th>\n",
       "      <th>degree</th>\n",
       "      <th>otherqual</th>\n",
       "      <th>position</th>\n",
       "      <th>male</th>\n",
       "      <th>Field</th>\n",
       "      <th>yearsabs</th>\n",
       "    </tr>\n",
       "  </thead>\n",
       "  <tbody>\n",
       "    <tr>\n",
       "      <th>208</th>\n",
       "      <td>NaN</td>\n",
       "      <td>0</td>\n",
       "      <td>21</td>\n",
       "      <td>10</td>\n",
       "      <td>0.93</td>\n",
       "      <td>1</td>\n",
       "      <td>0</td>\n",
       "      <td>3</td>\n",
       "      <td>1</td>\n",
       "      <td>4</td>\n",
       "      <td>1</td>\n",
       "    </tr>\n",
       "  </tbody>\n",
       "</table>\n",
       "</div>"
      ],
      "text/plain": [
       "     salary  exprior  yearsworked  yearsrank  market  degree  otherqual  \\\n",
       "208     NaN        0           21         10    0.93       1          0   \n",
       "\n",
       "     position  male  Field  yearsabs  \n",
       "208         3     1      4         1  "
      ]
     },
     "execution_count": 9,
     "metadata": {},
     "output_type": "execute_result"
    }
   ],
   "source": [
    "Salary[Salary.isnull().any(axis=1)]"
   ]
  },
  {
   "cell_type": "markdown",
   "metadata": {},
   "source": [
    "#### From the results above, we can see that there are 514 observations and there is a missing value in the salary column.¶"
   ]
  },
  {
   "cell_type": "code",
   "execution_count": 10,
   "metadata": {},
   "outputs": [
    {
     "data": {
      "text/html": [
       "<div>\n",
       "<style scoped>\n",
       "    .dataframe tbody tr th:only-of-type {\n",
       "        vertical-align: middle;\n",
       "    }\n",
       "\n",
       "    .dataframe tbody tr th {\n",
       "        vertical-align: top;\n",
       "    }\n",
       "\n",
       "    .dataframe thead th {\n",
       "        text-align: right;\n",
       "    }\n",
       "</style>\n",
       "<table border=\"1\" class=\"dataframe\">\n",
       "  <thead>\n",
       "    <tr style=\"text-align: right;\">\n",
       "      <th></th>\n",
       "      <th>salary</th>\n",
       "      <th>exprior</th>\n",
       "      <th>yearsworked</th>\n",
       "      <th>yearsrank</th>\n",
       "      <th>market</th>\n",
       "      <th>degree</th>\n",
       "      <th>otherqual</th>\n",
       "      <th>position</th>\n",
       "      <th>male</th>\n",
       "      <th>Field</th>\n",
       "      <th>yearsabs</th>\n",
       "    </tr>\n",
       "  </thead>\n",
       "  <tbody>\n",
       "    <tr>\n",
       "      <th>208</th>\n",
       "      <td>NaN</td>\n",
       "      <td>0</td>\n",
       "      <td>21</td>\n",
       "      <td>10</td>\n",
       "      <td>0.93</td>\n",
       "      <td>1</td>\n",
       "      <td>0</td>\n",
       "      <td>3</td>\n",
       "      <td>1</td>\n",
       "      <td>4</td>\n",
       "      <td>1</td>\n",
       "    </tr>\n",
       "  </tbody>\n",
       "</table>\n",
       "</div>"
      ],
      "text/plain": [
       "     salary  exprior  yearsworked  yearsrank  market  degree  otherqual  \\\n",
       "208     NaN        0           21         10    0.93       1          0   \n",
       "\n",
       "     position  male  Field  yearsabs  \n",
       "208         3     1      4         1  "
      ]
     },
     "execution_count": 10,
     "metadata": {},
     "output_type": "execute_result"
    }
   ],
   "source": [
    "Salary[Salary.isnull().any(axis=1)]"
   ]
  },
  {
   "cell_type": "markdown",
   "metadata": {},
   "source": []
  },
  {
   "cell_type": "markdown",
   "metadata": {},
   "source": [
    "### 2. What is the lowest salary and highest salary in the group?"
   ]
  },
  {
   "cell_type": "code",
   "execution_count": 11,
   "metadata": {},
   "outputs": [
    {
     "data": {
      "text/plain": [
       "29000.0"
      ]
     },
     "execution_count": 11,
     "metadata": {},
     "output_type": "execute_result"
    }
   ],
   "source": [
    "\n",
    "Salary['salary'].min()"
   ]
  },
  {
   "cell_type": "code",
   "execution_count": 12,
   "metadata": {},
   "outputs": [
    {
     "data": {
      "text/plain": [
       "96156.0"
      ]
     },
     "execution_count": 12,
     "metadata": {},
     "output_type": "execute_result"
    }
   ],
   "source": [
    "Salary['salary'].max()"
   ]
  },
  {
   "cell_type": "markdown",
   "metadata": {},
   "source": [
    "#### From the results above:\n",
    "#### We have the maximum salary as R96156 and¶\n",
    "#### we have the minimum salary as R2900"
   ]
  },
  {
   "cell_type": "markdown",
   "metadata": {},
   "source": [
    "### 3. What is the mean salary for the sample? Include the standard error of the mean.¶"
   ]
  },
  {
   "cell_type": "code",
   "execution_count": 13,
   "metadata": {},
   "outputs": [
    {
     "data": {
      "text/plain": [
       "50863.22"
      ]
     },
     "execution_count": 13,
     "metadata": {},
     "output_type": "execute_result"
    }
   ],
   "source": [
    "mean_sal = Salary['salary'].mean()\n",
    "round(mean_sal, 2)"
   ]
  },
  {
   "cell_type": "code",
   "execution_count": 14,
   "metadata": {
    "scrolled": true
   },
   "outputs": [
    {
     "data": {
      "text/plain": [
       "560.06"
      ]
     },
     "execution_count": 14,
     "metadata": {},
     "output_type": "execute_result"
    }
   ],
   "source": [
    "round(stats.sem(Salary['salary'], nan_policy = 'omit'), 2)"
   ]
  },
  {
   "cell_type": "markdown",
   "metadata": {},
   "source": [
    "##### From the results above we have:\n",
    "##### The mean salary as R50863 and the standard error of the mean salary is R560.06¶"
   ]
  },
  {
   "cell_type": "markdown",
   "metadata": {},
   "source": [
    "### 4. What is the standard deviation for the years worked?"
   ]
  },
  {
   "cell_type": "code",
   "execution_count": 15,
   "metadata": {},
   "outputs": [
    {
     "data": {
      "text/plain": [
       "9.444695144169813"
      ]
     },
     "execution_count": 15,
     "metadata": {},
     "output_type": "execute_result"
    }
   ],
   "source": [
    "Salary['yearsworked'].std()"
   ]
  },
  {
   "cell_type": "markdown",
   "metadata": {},
   "source": [
    "#### From the results above we have:\n",
    "#### The standard deviation for the years worked is 9.44"
   ]
  },
  {
   "cell_type": "markdown",
   "metadata": {},
   "source": [
    "### 5. What is the median salary for the sample?"
   ]
  },
  {
   "cell_type": "code",
   "execution_count": 16,
   "metadata": {},
   "outputs": [
    {
     "data": {
      "text/plain": [
       "50096.0"
      ]
     },
     "execution_count": 16,
     "metadata": {},
     "output_type": "execute_result"
    }
   ],
   "source": [
    "Salary['salary'].median()"
   ]
  },
  {
   "cell_type": "markdown",
   "metadata": {},
   "source": [
    "#### From the results above we have:\n",
    "#### The median for the salaries is R5096"
   ]
  },
  {
   "cell_type": "code",
   "execution_count": 17,
   "metadata": {},
   "outputs": [
    {
     "name": "stdout",
     "output_type": "stream",
     "text": [
      "20345.0\n"
     ]
    }
   ],
   "source": [
    "# First quartile (Q1) \n",
    "Q1 = np.nanpercentile(Salary['salary'], 25, interpolation = 'midpoint') \n",
    "  \n",
    "# Third quartile (Q3) \n",
    "Q3 = np.nanpercentile(Salary['salary'], 75, interpolation = 'midpoint') \n",
    "  \n",
    "# Interquaritle range (IQR) \n",
    "IQR = Q3 - Q1 \n",
    "  \n",
    "print(IQR)"
   ]
  },
  {
   "cell_type": "markdown",
   "metadata": {},
   "source": [
    "#### From the results above we have:\n",
    "#### The interquartile range for the  salaries is R20345¶\n",
    "\n",
    "#### The descriptive statistical values can be visually observed in a boxplot below"
   ]
  },
  {
   "cell_type": "code",
   "execution_count": 18,
   "metadata": {},
   "outputs": [
    {
     "data": {
      "text/plain": [
       "<matplotlib.axes._subplots.AxesSubplot at 0x7fe0ca353dd8>"
      ]
     },
     "execution_count": 18,
     "metadata": {},
     "output_type": "execute_result"
    },
    {
     "data": {
      "image/png": "[encoded data removed]",
      "text/plain": [
       "<Figure size 432x288 with 1 Axes>"
      ]
     },
     "metadata": {
      "needs_background": "light"
     },
     "output_type": "display_data"
    }
   ],
   "source": [
    "Salary.boxplot('salary')"
   ]
  },
  {
   "cell_type": "markdown",
   "metadata": {},
   "source": [
    "### 7. How many men are there in the sample? How many women are there in the sample? Present this information in a table.¶"
   ]
  },
  {
   "cell_type": "markdown",
   "metadata": {},
   "source": [
    "#### Creating Gender column"
   ]
  },
  {
   "cell_type": "code",
   "execution_count": 19,
   "metadata": {},
   "outputs": [],
   "source": [
    "Gender = {1: \"Male\", 0: \"Female\"}\n",
    "Salary[\"Gender\"] = Salary[\"male\"].map(Gender)"
   ]
  },
  {
   "cell_type": "markdown",
   "metadata": {},
   "source": [
    "#### Count the observations on Gender column"
   ]
  },
  {
   "cell_type": "code",
   "execution_count": 20,
   "metadata": {},
   "outputs": [
    {
     "data": {
      "text/plain": [
       "Male      386\n",
       "Female    128\n",
       "Name: Gender, dtype: int64"
      ]
     },
     "execution_count": 20,
     "metadata": {},
     "output_type": "execute_result"
    }
   ],
   "source": [
    "Salary['Gender'].value_counts()"
   ]
  },
  {
   "cell_type": "markdown",
   "metadata": {},
   "source": [
    "#### From the above observations we have:\n",
    "\n",
    "#### 386 number of males and 128 number of females who constitute on our observations."
   ]
  },
  {
   "cell_type": "code",
   "execution_count": 21,
   "metadata": {},
   "outputs": [
    {
     "data": {
      "text/html": [
       "<div>\n",
       "<style scoped>\n",
       "    .dataframe tbody tr th:only-of-type {\n",
       "        vertical-align: middle;\n",
       "    }\n",
       "\n",
       "    .dataframe tbody tr th {\n",
       "        vertical-align: top;\n",
       "    }\n",
       "\n",
       "    .dataframe thead th {\n",
       "        text-align: right;\n",
       "    }\n",
       "</style>\n",
       "<table border=\"1\" class=\"dataframe\">\n",
       "  <thead>\n",
       "    <tr style=\"text-align: right;\">\n",
       "      <th></th>\n",
       "      <th>salary</th>\n",
       "      <th>exprior</th>\n",
       "      <th>yearsworked</th>\n",
       "      <th>yearsrank</th>\n",
       "      <th>market</th>\n",
       "      <th>degree</th>\n",
       "      <th>otherqual</th>\n",
       "      <th>position</th>\n",
       "      <th>male</th>\n",
       "      <th>Field</th>\n",
       "      <th>yearsabs</th>\n",
       "      <th>Gender</th>\n",
       "    </tr>\n",
       "  </thead>\n",
       "  <tbody>\n",
       "    <tr>\n",
       "      <th>513</th>\n",
       "      <td>52662.0</td>\n",
       "      <td>13</td>\n",
       "      <td>25</td>\n",
       "      <td>11</td>\n",
       "      <td>0.78</td>\n",
       "      <td>1</td>\n",
       "      <td>0</td>\n",
       "      <td>3</td>\n",
       "      <td>0</td>\n",
       "      <td>1</td>\n",
       "      <td>112</td>\n",
       "      <td>Female</td>\n",
       "    </tr>\n",
       "  </tbody>\n",
       "</table>\n",
       "</div>"
      ],
      "text/plain": [
       "      salary  exprior  yearsworked  yearsrank  market  degree  otherqual  \\\n",
       "513  52662.0       13           25         11    0.78       1          0   \n",
       "\n",
       "     position  male  Field  yearsabs  Gender  \n",
       "513         3     0      1       112  Female  "
      ]
     },
     "execution_count": 21,
     "metadata": {},
     "output_type": "execute_result"
    }
   ],
   "source": [
    "Salary.tail(1)"
   ]
  },
  {
   "cell_type": "markdown",
   "metadata": {},
   "source": [
    "### 8. How many women are executives compared to men?"
   ]
  },
  {
   "cell_type": "markdown",
   "metadata": {},
   "source": [
    "##### Assigning Position as per the Salary_metadata Dataframe and creating a new \"Position\" column in Salary dataframe."
   ]
  },
  {
   "cell_type": "code",
   "execution_count": 22,
   "metadata": {},
   "outputs": [],
   "source": [
    "Position = {1: \"Junior Employee\", 2: \"Manager\", 3: \"Executive\"}\n",
    "Salary[\"Position\"] = Salary[\"position\"].map(Position)"
   ]
  },
  {
   "cell_type": "markdown",
   "metadata": {},
   "source": [
    "#### Extracting both male and female executive from Position and Gender column."
   ]
  },
  {
   "cell_type": "code",
   "execution_count": 23,
   "metadata": {},
   "outputs": [
    {
     "data": {
      "text/plain": [
       "19"
      ]
     },
     "execution_count": 23,
     "metadata": {},
     "output_type": "execute_result"
    }
   ],
   "source": [
    "Exec = Salary[ Salary['Position']=='Executive']\n",
    "fem_exec = Exec[Exec['Gender']=='Female']\n",
    "male_exec = Exec[Exec['Gender']=='Male']\n",
    "number_of_fem_exec = len(fem_exec)\n",
    "number_of_male_exec = len(male_exec)\n",
    "\n",
    "\n",
    "number_of_fem_exec\n"
   ]
  },
  {
   "cell_type": "code",
   "execution_count": 24,
   "metadata": {},
   "outputs": [
    {
     "data": {
      "text/plain": [
       "192"
      ]
     },
     "execution_count": 24,
     "metadata": {},
     "output_type": "execute_result"
    }
   ],
   "source": [
    "number_of_male_exec"
   ]
  },
  {
   "cell_type": "markdown",
   "metadata": {},
   "source": [
    "#### From the above readings it can be observed that there are 192 number of males who occupy the role of executive and only 19 females occupy the role of executive."
   ]
  },
  {
   "cell_type": "markdown",
   "metadata": {},
   "source": [
    "### 9. Create a histogram for the variable Salary."
   ]
  },
  {
   "cell_type": "code",
   "execution_count": 25,
   "metadata": {},
   "outputs": [
    {
     "data": {
      "text/plain": [
       "Text(0, 0.5, 'Number of People')"
      ]
     },
     "execution_count": 25,
     "metadata": {},
     "output_type": "execute_result"
    },
    {
     "data": {
      "image/png": "[encoded data removed]",
      "text/plain": [
       "<Figure size 432x288 with 1 Axes>"
      ]
     },
     "metadata": {
      "needs_background": "light"
     },
     "output_type": "display_data"
    }
   ],
   "source": [
    "Salary.hist(column='salary')\n",
    "plt.xlabel('Amount earned')\n",
    "plt.ylabel('Number of People')"
   ]
  },
  {
   "cell_type": "code",
   "execution_count": 26,
   "metadata": {},
   "outputs": [
    {
     "data": {
      "image/png": "[encoded data removed]",
      "text/plain": [
       "<Figure size 432x288 with 1 Axes>"
      ]
     },
     "metadata": {
      "needs_background": "light"
     },
     "output_type": "display_data"
    }
   ],
   "source": [
    "mean_sal = Salary.groupby('Gender')['salary'].mean()\n",
    "mean_sal\n",
    "\n",
    "std_sal = Salary.groupby('Gender')['salary'].std()\n",
    "std_sal\n",
    "\n",
    "female_mean_sal = mean_sal.loc['Female']\n",
    "female_mean_sal\n",
    "\n",
    "male_mean_sal= mean_sal.loc['Male']\n",
    "male_mean_sal\n",
    "\n",
    "female_std_sal = std_sal.loc['Male']\n",
    "Male_std_sal = std_sal.loc['Female']\n",
    "    \n",
    "materials = ['Female', 'Male']\n",
    "x_pos = np.arange(len(materials))\n",
    "CTEs = [female_mean_sal, male_mean_sal]\n",
    "error = [female_std_sal, Male_std_sal]\n",
    "\n",
    "fig, ax = plt.subplots()\n",
    "ax.bar(x_pos, CTEs, yerr=error, align='center', alpha=0.5, ecolor='black', capsize=10)\n",
    "ax.set_ylabel('Salaries')\n",
    "ax.set_xticks(x_pos)\n",
    "ax.set_xticklabels(materials)\n",
    "ax.set_title('Coefficent of the average salaries of men and women')\n",
    "ax.yaxis.grid(True)\n",
    "\n",
    "#Save the figure and show\n",
    "#plt.tight_layout()\n",
    "#plt.savefig('bar_plot_with_error_bars.png')\n",
    "plt.show()   \n",
    "    "
   ]
  },
  {
   "cell_type": "markdown",
   "metadata": {},
   "source": [
    "### 12.1 Create a scatterplot with seaborn showing the relationship between Years Worked and Salary (don’t forget to insert a trend line).¶"
   ]
  },
  {
   "cell_type": "code",
   "execution_count": 30,
   "metadata": {},
   "outputs": [
    {
     "data": {
      "image/png": "[encoded data removed]",
      "text/plain": [
       "<Figure size 432x288 with 1 Axes>"
      ]
     },
     "metadata": {
      "needs_background": "light"
     },
     "output_type": "display_data"
    }
   ],
   "source": [
    "ax1 = Salary.plot.scatter(x='yearsworked',y='salary' )\n",
    "\n",
    "ax = sns.scatterplot(x=Salary['yearsworked'], y=Salary['salary'], data=Salary)\n",
    "\n",
    "ax = sns.regplot(x=\"yearsworked\", y=\"salary\", data=Salary)"
   ]
  },
  {
   "cell_type": "markdown",
   "metadata": {},
   "source": [
    "### 12.2 What is the relationship between Years Worked and Salary?"
   ]
  },
  {
   "cell_type": "markdown",
   "metadata": {},
   "source": [
    "### We can see from the graph above that there is a positive strong relationship between the number of years worked against the salaries thereof.¶\n"
   ]
  },
  {
   "cell_type": "markdown",
   "metadata": {},
   "source": [
    "### 12.3 Describe any patterns in the scatterplot.Do you notice any unusual/extreme values that do not fit the general trend? If you see any unusual values, briefly describe them (Who are they? In what way are they different?)¶"
   ]
  },
  {
   "cell_type": "markdown",
   "metadata": {},
   "source": [
    "#### Based on the plotted scatter plot, there is no pattern observed but ther are notable outliers that are influencing the regression line.These outliers could be individuals that posses higher experience and skills compared to the rest of other employees hence the higher income.\n",
    "\n",
    "#### The below code illustrate that the persom who earns the most is an excutive male who has 20 years of experience prio the role of excutive.\n",
    "\n",
    "#### And on the other hand we have and a male who earns the minimum amount of R29 000.0, This could be caused by the fact that he has no degree.\n",
    "\n",
    "\n"
   ]
  },
  {
   "cell_type": "code",
   "execution_count": 32,
   "metadata": {},
   "outputs": [
    {
     "name": "stdout",
     "output_type": "stream",
     "text": [
      "      salary  exprior  yearsworked  yearsrank  market  degree  otherqual  \\\n",
      "377  96156.0       20           12         12    1.19       1          0   \n",
      "\n",
      "     position  male  Field  yearsabs Gender   Position  \n",
      "377         3     1      1         2   Male  Executive  \n"
     ]
    }
   ],
   "source": [
    "print(Salary[Salary.salary == Salary.salary.max()])"
   ]
  },
  {
   "cell_type": "code",
   "execution_count": 31,
   "metadata": {},
   "outputs": [
    {
     "name": "stdout",
     "output_type": "stream",
     "text": [
      "     salary  exprior  yearsworked  yearsrank  market  degree  otherqual  \\\n",
      "79  29000.0        6            0          0    0.78       0          0   \n",
      "\n",
      "    position  male  Field  yearsabs Gender         Position  \n",
      "79         1     1      3         0   Male  Junior Employee  \n"
     ]
    }
   ],
   "source": [
    "print(Salary[Salary.salary == Salary.salary.min()])"
   ]
  },
  {
   "cell_type": "markdown",
   "metadata": {},
   "source": [
    "### 13.1 Using the pearsonr function from the scipy.stats package, calculate the Pearson correlation coefficient (and its corresponding p value) to determine the nature of the relationship between Years Worked and Salary. See help(pearsonr) for help on this function.¶"
   ]
  },
  {
   "cell_type": "code",
   "execution_count": null,
   "metadata": {},
   "outputs": [],
   "source": [
    "Salary['salary'] = Salary.fillna(0)  \n",
    "scipy.stats.pearsonr(Salary['yearsworked'], Salary['salary'])"
   ]
  },
  {
   "cell_type": "markdown",
   "metadata": {},
   "source": [
    "### 13.2 Interpret the size and direction of the correlation statistic.¶Is the relationship statistically significant? Report the appropriate statistic(s) to support your answer.¶"
   ]
  },
  {
   "cell_type": "markdown",
   "metadata": {},
   "source": [
    "#### From the results above we have that:\n",
    "#### The strength of the relationship between number of years worked and the salaries is a moderate relationship as the coefficient correlation is 0.61\n",
    "#### the direction of the relationship between number of years worked and the salaries is a positive direction.¶\n",
    "#### The p-value of the pearson correlation is 4.76 e^-53 which is less than 0.05, thus we rejust the null hypothesis. This relationship is statistically significant."
   ]
  },
  {
   "cell_type": "code",
   "execution_count": null,
   "metadata": {},
   "outputs": [],
   "source": []
  },
  {
   "cell_type": "code",
   "execution_count": null,
   "metadata": {},
   "outputs": [],
   "source": []
  }
 ],
 "metadata": {
  "kernelspec": {
   "display_name": "Python 3",
   "language": "python",
   "name": "python3"
  },
  "language_info": {
   "codemirror_mode": {
    "name": "ipython",
    "version": 3
   },
   "file_extension": ".py",
   "mimetype": "text/x-python",
   "name": "python",
   "nbconvert_exporter": "python",
   "pygments_lexer": "ipython3",
   "version": "3.6.8"
  }
 },
 "nbformat": 4,
 "nbformat_minor": 4
}
